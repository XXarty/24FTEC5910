{
 "cells": [
  {
   "cell_type": "code",
   "execution_count": 19,
   "metadata": {},
   "outputs": [],
   "source": [
    "from telethon import TelegramClient\n",
    "import matplotlib.pyplot as plt\n",
    "import pandas as pd\n",
    "import numpy as np\n",
    "import asyncio\n",
    "import csv\n",
    "import re\n",
    "\n",
    "# 自己的 API ID 和 API HASH\n",
    "api_id = '29538472'\n",
    "api_hash = '6dd4a3733beb9e61cbe62ba5b25b3a80'\n",
    "\n",
    "# 创建 Telegram 客户端\n",
    "client = TelegramClient('session_name', api_id, api_hash)"
   ]
  },
  {
   "cell_type": "code",
   "execution_count": 20,
   "metadata": {},
   "outputs": [
    {
     "ename": "OperationalError",
     "evalue": "database is locked",
     "output_type": "error",
     "traceback": [
      "\u001b[0;31m---------------------------------------------------------------------------\u001b[0m",
      "\u001b[0;31mOperationalError\u001b[0m                          Traceback (most recent call last)",
      "Cell \u001b[0;32mIn[20], line 11\u001b[0m\n\u001b[1;32m      8\u001b[0m             \u001b[38;5;28mprint\u001b[39m(\u001b[38;5;124mf\u001b[39m\u001b[38;5;124m\"\u001b[39m\u001b[38;5;124m群组名称: \u001b[39m\u001b[38;5;132;01m{\u001b[39;00mdialog\u001b[38;5;241m.\u001b[39mname\u001b[38;5;132;01m}\u001b[39;00m\u001b[38;5;124m, 群组 ID: \u001b[39m\u001b[38;5;132;01m{\u001b[39;00mdialog\u001b[38;5;241m.\u001b[39mid\u001b[38;5;132;01m}\u001b[39;00m\u001b[38;5;124m\"\u001b[39m)\n\u001b[1;32m     10\u001b[0m \u001b[38;5;66;03m# 在 Jupyter Notebook 中直接调用\u001b[39;00m\n\u001b[0;32m---> 11\u001b[0m \u001b[38;5;28;01mawait\u001b[39;00m list_groups()\n",
      "Cell \u001b[0;32mIn[20], line 3\u001b[0m, in \u001b[0;36mlist_groups\u001b[0;34m()\u001b[0m\n\u001b[1;32m      2\u001b[0m \u001b[38;5;28;01masync\u001b[39;00m \u001b[38;5;28;01mdef\u001b[39;00m \u001b[38;5;21mlist_groups\u001b[39m():\n\u001b[0;32m----> 3\u001b[0m     \u001b[38;5;28;01mawait\u001b[39;00m client\u001b[38;5;241m.\u001b[39mstart()\n\u001b[1;32m      4\u001b[0m     dialogs \u001b[38;5;241m=\u001b[39m \u001b[38;5;28;01mawait\u001b[39;00m client\u001b[38;5;241m.\u001b[39mget_dialogs()\n\u001b[1;32m      6\u001b[0m     \u001b[38;5;28;01mfor\u001b[39;00m dialog \u001b[38;5;129;01min\u001b[39;00m dialogs:\n",
      "File \u001b[0;32m~/Library/Python/3.9/lib/python/site-packages/telethon/client/auth.py:135\u001b[0m, in \u001b[0;36mAuthMethods._start\u001b[0;34m(self, phone, password, bot_token, force_sms, code_callback, first_name, last_name, max_attempts)\u001b[0m\n\u001b[1;32m    131\u001b[0m \u001b[38;5;28;01masync\u001b[39;00m \u001b[38;5;28;01mdef\u001b[39;00m \u001b[38;5;21m_start\u001b[39m(\n\u001b[1;32m    132\u001b[0m         \u001b[38;5;28mself\u001b[39m: \u001b[38;5;124m'\u001b[39m\u001b[38;5;124mTelegramClient\u001b[39m\u001b[38;5;124m'\u001b[39m, phone, password, bot_token, force_sms,\n\u001b[1;32m    133\u001b[0m         code_callback, first_name, last_name, max_attempts):\n\u001b[1;32m    134\u001b[0m     \u001b[38;5;28;01mif\u001b[39;00m \u001b[38;5;129;01mnot\u001b[39;00m \u001b[38;5;28mself\u001b[39m\u001b[38;5;241m.\u001b[39mis_connected():\n\u001b[0;32m--> 135\u001b[0m         \u001b[38;5;28;01mawait\u001b[39;00m \u001b[38;5;28mself\u001b[39m\u001b[38;5;241m.\u001b[39mconnect()\n\u001b[1;32m    137\u001b[0m     \u001b[38;5;66;03m# Rather than using `is_user_authorized`, use `get_me`. While this is\u001b[39;00m\n\u001b[1;32m    138\u001b[0m     \u001b[38;5;66;03m# more expensive and needs to retrieve more data from the server, it\u001b[39;00m\n\u001b[1;32m    139\u001b[0m     \u001b[38;5;66;03m# enables the library to warn users trying to login to a different\u001b[39;00m\n\u001b[1;32m    140\u001b[0m     \u001b[38;5;66;03m# account. See #1172.\u001b[39;00m\n\u001b[1;32m    141\u001b[0m     me \u001b[38;5;241m=\u001b[39m \u001b[38;5;28;01mawait\u001b[39;00m \u001b[38;5;28mself\u001b[39m\u001b[38;5;241m.\u001b[39mget_me()\n",
      "File \u001b[0;32m~/Library/Python/3.9/lib/python/site-packages/telethon/client/telegrambaseclient.py:559\u001b[0m, in \u001b[0;36mTelegramBaseClient.connect\u001b[0;34m(self)\u001b[0m\n\u001b[1;32m    548\u001b[0m \u001b[38;5;28;01mif\u001b[39;00m \u001b[38;5;129;01mnot\u001b[39;00m \u001b[38;5;28;01mawait\u001b[39;00m \u001b[38;5;28mself\u001b[39m\u001b[38;5;241m.\u001b[39m_sender\u001b[38;5;241m.\u001b[39mconnect(\u001b[38;5;28mself\u001b[39m\u001b[38;5;241m.\u001b[39m_connection(\n\u001b[1;32m    549\u001b[0m     \u001b[38;5;28mself\u001b[39m\u001b[38;5;241m.\u001b[39msession\u001b[38;5;241m.\u001b[39mserver_address,\n\u001b[1;32m    550\u001b[0m     \u001b[38;5;28mself\u001b[39m\u001b[38;5;241m.\u001b[39msession\u001b[38;5;241m.\u001b[39mport,\n\u001b[0;32m   (...)\u001b[0m\n\u001b[1;32m    555\u001b[0m )):\n\u001b[1;32m    556\u001b[0m     \u001b[38;5;66;03m# We don't want to init or modify anything if we were already connected\u001b[39;00m\n\u001b[1;32m    557\u001b[0m     \u001b[38;5;28;01mreturn\u001b[39;00m\n\u001b[0;32m--> 559\u001b[0m \u001b[38;5;28;43mself\u001b[39;49m\u001b[38;5;241;43m.\u001b[39;49m\u001b[43msession\u001b[49m\u001b[38;5;241;43m.\u001b[39;49m\u001b[43mauth_key\u001b[49m \u001b[38;5;241m=\u001b[39m \u001b[38;5;28mself\u001b[39m\u001b[38;5;241m.\u001b[39m_sender\u001b[38;5;241m.\u001b[39mauth_key\n\u001b[1;32m    560\u001b[0m \u001b[38;5;28mself\u001b[39m\u001b[38;5;241m.\u001b[39msession\u001b[38;5;241m.\u001b[39msave()\n\u001b[1;32m    562\u001b[0m \u001b[38;5;28;01mtry\u001b[39;00m:\n\u001b[1;32m    563\u001b[0m     \u001b[38;5;66;03m# See comment when saving entities to understand this hack\u001b[39;00m\n",
      "File \u001b[0;32m~/Library/Python/3.9/lib/python/site-packages/telethon/sessions/sqlite.py:180\u001b[0m, in \u001b[0;36mSQLiteSession.auth_key\u001b[0;34m(self, value)\u001b[0m\n\u001b[1;32m    177\u001b[0m \u001b[38;5;129m@MemorySession\u001b[39m\u001b[38;5;241m.\u001b[39mauth_key\u001b[38;5;241m.\u001b[39msetter\n\u001b[1;32m    178\u001b[0m \u001b[38;5;28;01mdef\u001b[39;00m \u001b[38;5;21mauth_key\u001b[39m(\u001b[38;5;28mself\u001b[39m, value):\n\u001b[1;32m    179\u001b[0m     \u001b[38;5;28mself\u001b[39m\u001b[38;5;241m.\u001b[39m_auth_key \u001b[38;5;241m=\u001b[39m value\n\u001b[0;32m--> 180\u001b[0m     \u001b[38;5;28;43mself\u001b[39;49m\u001b[38;5;241;43m.\u001b[39;49m\u001b[43m_update_session_table\u001b[49m\u001b[43m(\u001b[49m\u001b[43m)\u001b[49m\n",
      "File \u001b[0;32m~/Library/Python/3.9/lib/python/site-packages/telethon/sessions/sqlite.py:194\u001b[0m, in \u001b[0;36mSQLiteSession._update_session_table\u001b[0;34m(self)\u001b[0m\n\u001b[1;32m    188\u001b[0m c \u001b[38;5;241m=\u001b[39m \u001b[38;5;28mself\u001b[39m\u001b[38;5;241m.\u001b[39m_cursor()\n\u001b[1;32m    189\u001b[0m \u001b[38;5;66;03m# While we can save multiple rows into the sessions table\u001b[39;00m\n\u001b[1;32m    190\u001b[0m \u001b[38;5;66;03m# currently we only want to keep ONE as the tables don't\u001b[39;00m\n\u001b[1;32m    191\u001b[0m \u001b[38;5;66;03m# tell us which auth_key's are usable and will work. Needs\u001b[39;00m\n\u001b[1;32m    192\u001b[0m \u001b[38;5;66;03m# some more work before being able to save auth_key's for\u001b[39;00m\n\u001b[1;32m    193\u001b[0m \u001b[38;5;66;03m# multiple DCs. Probably done differently.\u001b[39;00m\n\u001b[0;32m--> 194\u001b[0m \u001b[43mc\u001b[49m\u001b[38;5;241;43m.\u001b[39;49m\u001b[43mexecute\u001b[49m\u001b[43m(\u001b[49m\u001b[38;5;124;43m'\u001b[39;49m\u001b[38;5;124;43mdelete from sessions\u001b[39;49m\u001b[38;5;124;43m'\u001b[39;49m\u001b[43m)\u001b[49m\n\u001b[1;32m    195\u001b[0m c\u001b[38;5;241m.\u001b[39mexecute(\u001b[38;5;124m'\u001b[39m\u001b[38;5;124minsert or replace into sessions values (?,?,?,?,?)\u001b[39m\u001b[38;5;124m'\u001b[39m, (\n\u001b[1;32m    196\u001b[0m     \u001b[38;5;28mself\u001b[39m\u001b[38;5;241m.\u001b[39m_dc_id,\n\u001b[1;32m    197\u001b[0m     \u001b[38;5;28mself\u001b[39m\u001b[38;5;241m.\u001b[39m_server_address,\n\u001b[0;32m   (...)\u001b[0m\n\u001b[1;32m    200\u001b[0m     \u001b[38;5;28mself\u001b[39m\u001b[38;5;241m.\u001b[39m_takeout_id\n\u001b[1;32m    201\u001b[0m ))\n\u001b[1;32m    202\u001b[0m c\u001b[38;5;241m.\u001b[39mclose()\n",
      "\u001b[0;31mOperationalError\u001b[0m: database is locked"
     ]
    }
   ],
   "source": [
    "# 获取Telegram群组id\n",
    "async def list_groups():\n",
    "    await client.start()\n",
    "    dialogs = await client.get_dialogs()\n",
    "    \n",
    "    for dialog in dialogs:\n",
    "        if dialog.is_group:\n",
    "            print(f\"群组名称: {dialog.name}, 群组 ID: {dialog.id}\")\n",
    "\n",
    "# 在 Jupyter Notebook 中直接调用\n",
    "await list_groups()"
   ]
  },
  {
   "cell_type": "code",
   "execution_count": null,
   "metadata": {},
   "outputs": [],
   "source": [
    "async def main():\n",
    "    \n",
    "    group = -1002396110686\n",
    "    messages_data = []\n",
    "    \n",
    "    # 获取群组消息\n",
    "    async for message in client.iter_messages(group):\n",
    "        if message.text:\n",
    "            messages_data.append(message.text)\n",
    "            print(message.text)\n",
    "\n",
    "    # 保存消息到 CSV 文件\n",
    "    with open('messages.csv', mode='w', newline='', encoding='utf-8') as file:\n",
    "        writer = csv.writer(file)\n",
    "        writer.writerow(['Message'])\n",
    "        for msg in messages_data:\n",
    "            writer.writerow([msg])\n",
    "\n",
    "    # print(f\"Retrieved {len(messages_data)} messages and saved to messages.csv.\")\n",
    "\n",
    "\n",
    "# 检查当前事件循环并运行\n",
    "await main()"
   ]
  }
 ],
 "metadata": {
  "kernelspec": {
   "display_name": "Python 3",
   "language": "python",
   "name": "python3"
  },
  "language_info": {
   "codemirror_mode": {
    "name": "ipython",
    "version": 3
   },
   "file_extension": ".py",
   "mimetype": "text/x-python",
   "name": "python",
   "nbconvert_exporter": "python",
   "pygments_lexer": "ipython3",
   "version": "3.9.6"
  }
 },
 "nbformat": 4,
 "nbformat_minor": 2
}
