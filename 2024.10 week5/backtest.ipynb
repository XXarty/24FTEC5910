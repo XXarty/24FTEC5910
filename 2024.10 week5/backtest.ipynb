{
 "cells": [
  {
   "cell_type": "code",
   "execution_count": 2,
   "metadata": {},
   "outputs": [
    {
     "name": "stdout",
     "output_type": "stream",
     "text": [
      "Annualized Return: 77.44044305447208%\n",
      "Sharpe Ratio: 3.391776608680904\n",
      "Maximum Drawdown: 6.115781731625506%\n"
     ]
    }
   ],
   "source": [
    "import pandas as pd\n",
    "import numpy as np\n",
    "\n",
    "# Load the CSV file into a DataFrame\n",
    "data = pd.read_csv('1014LTDaily.csv', parse_dates=['Date'])\n",
    "data.set_index('Date', inplace=True)\n",
    "\n",
    "# Calculate daily returns from the P&L column\n",
    "data['Daily Return'] = data['PnL']\n",
    "\n",
    "# Calculate Maximum Drawdown\n",
    "data['Cumulative Return'] = (1 + data['Daily Return']).cumprod()\n",
    "data['Cumulative High'] = data['Cumulative Return'].cummax()\n",
    "data['Drawdown'] = (data['Cumulative High'] - data['Cumulative Return']) / data['Cumulative High']\n",
    "max_drawdown = data['Drawdown'].max()\n",
    "\n",
    "# Calculate Annualized Return\n",
    "# Assuming 365 trading days in a year\n",
    "daily_return = data['Cumulative Return'].iloc[-1] ** (1/len(data)) - 1\n",
    "annualized_return = (1 + daily_return) ** 365 - 1\n",
    "\n",
    "# Calculate Sharpe Ratio\n",
    "sharpe_ratio = daily_return/ data['Daily Return'].std() * np.sqrt(365)\n",
    "\n",
    "# Display results\n",
    "print(f\"Annualized Return: {annualized_return*100}%\" )\n",
    "print(\"Sharpe Ratio:\", sharpe_ratio)\n",
    "print(f\"Maximum Drawdown: {max_drawdown*100}%\")"
   ]
  },
  {
   "cell_type": "code",
   "execution_count": null,
   "metadata": {},
   "outputs": [],
   "source": [
    "# 按月聚合每日回报以计算月度回报\n",
    "data['Monthly Return'] = (1 + data['Daily Return']).resample('M').prod() - 1\n",
    "\n",
    "# 计算年化收益率（假设一年有12个月）\n",
    "total_months = len(data['Monthly Return'].dropna())\n",
    "annualized_return_monthly = (1 + data['Monthly Return'].mean()) ** 12 - 1\n",
    "\n",
    "# 计算基于月度收益的夏普比率\n",
    "# 假设无风险收益率为0\n",
    "risk_free_rate = 0\n",
    "monthly_sharpe_ratio = (data['Monthly Return'].mean() - risk_free_rate) / data['Monthly Return'].std() * np.sqrt(12)\n",
    "\n",
    "# 计算基于月度收益的最大回撤\n",
    "data['Cumulative Monthly Return'] = (1 + data['Monthly Return']).cumprod()\n",
    "data['Monthly Cumulative High'] = data['Cumulative Monthly Return'].cummax()\n",
    "data['Monthly Drawdown'] = data['Monthly Cumulative High'] - data['Cumulative Monthly Return']\n",
    "data['Monthly Drawdown Percent'] = data['Monthly Drawdown'] / data['Monthly Cumulative High']\n",
    "max_drawdown_monthly = data['Monthly Drawdown Percent'].max()\n",
    "\n",
    "# 输出结果\n",
    "print(\"月度年化收益率:\", annualized_return_monthly)\n",
    "print(\"月度夏普比率:\", monthly_sharpe_ratio)\n",
    "print(\"月度最大回撤:\", max_drawdown_monthly)"
   ]
  }
 ],
 "metadata": {
  "kernelspec": {
   "display_name": "Python 3",
   "language": "python",
   "name": "python3"
  },
  "language_info": {
   "codemirror_mode": {
    "name": "ipython",
    "version": 3
   },
   "file_extension": ".py",
   "mimetype": "text/x-python",
   "name": "python",
   "nbconvert_exporter": "python",
   "pygments_lexer": "ipython3",
   "version": "3.9.6"
  }
 },
 "nbformat": 4,
 "nbformat_minor": 2
}
