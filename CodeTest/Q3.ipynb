{
 "cells": [
  {
   "cell_type": "markdown",
   "metadata": {},
   "source": [
    "# Q3"
   ]
  },
  {
   "cell_type": "code",
   "execution_count": 2,
   "metadata": {},
   "outputs": [],
   "source": [
    "import requests\n",
    "import numpy as np\n",
    "import pandas as pd\n",
    "from datetime import datetime, timedelta\n",
    "import matplotlib.pyplot as plt"
   ]
  },
  {
   "cell_type": "markdown",
   "metadata": {},
   "source": [
    "Get the BTC and ETH data from binance"
   ]
  },
  {
   "cell_type": "code",
   "execution_count": 4,
   "metadata": {},
   "outputs": [],
   "source": [
    "import requests\n",
    "import pandas as pd\n",
    "from datetime import datetime, timedelta\n",
    "\n",
    "def get_binance_data(symbol, interval, start_time, end_time):\n",
    "    base_url = \"https://api.binance.com/api/v3/klines\"\n",
    "    params = {\n",
    "        'symbol': symbol,\n",
    "        'interval': interval,\n",
    "        'startTime': start_time,\n",
    "        'endTime': end_time,\n",
    "        'limit': 1000 \n",
    "    }\n",
    "    \n",
    "    data = []\n",
    "    while True:\n",
    "        response = requests.get(base_url, params=params)\n",
    "        response.raise_for_status()\n",
    "        klines = response.json()\n",
    "        if not klines:\n",
    "            break\n",
    "        data.extend(klines)\n",
    "        params['startTime'] = klines[-1][0] + 1\n",
    "        if len(klines) < 1000:\n",
    "            break\n",
    "    \n",
    "    df = pd.DataFrame(data, columns=[\n",
    "        'timestamp', 'open', 'high', 'low', 'close', 'volume', \n",
    "        'close_time', 'quote_asset_volume', 'number_of_trades', \n",
    "        'taker_buy_base_asset_volume', 'taker_buy_quote_asset_volume', 'ignore'\n",
    "    ])\n",
    "    df['timestamp'] = pd.to_datetime(df['timestamp'], unit='ms')\n",
    "    df.set_index('timestamp', inplace=True)\n",
    "    df = df.astype(float)\n",
    "    \n",
    "    return df\n",
    "\n",
    "# Define start and end times\n",
    "end_time = int(datetime.now().timestamp() * 1000)\n",
    "start_time = int((datetime.now() - timedelta(days=30)).timestamp() * 1000)\n",
    "\n",
    "# Fetch BTC and ETH minute data\n",
    "btc_data = get_binance_data('BTCUSDT', '1m', start_time, end_time)\n",
    "eth_data = get_binance_data('ETHUSDT', '1m', start_time, end_time)"
   ]
  },
  {
   "cell_type": "code",
   "execution_count": null,
   "metadata": {},
   "outputs": [],
   "source": []
  },
  {
   "cell_type": "code",
   "execution_count": null,
   "metadata": {},
   "outputs": [],
   "source": []
  }
 ],
 "metadata": {
  "kernelspec": {
   "display_name": "Python 3",
   "language": "python",
   "name": "python3"
  },
  "language_info": {
   "codemirror_mode": {
    "name": "ipython",
    "version": 3
   },
   "file_extension": ".py",
   "mimetype": "text/x-python",
   "name": "python",
   "nbconvert_exporter": "python",
   "pygments_lexer": "ipython3",
   "version": "3.9.0"
  }
 },
 "nbformat": 4,
 "nbformat_minor": 2
}
